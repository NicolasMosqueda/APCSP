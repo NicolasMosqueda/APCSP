{
 "cells": [
  {
   "cell_type": "markdown",
   "metadata": {},
   "source": [
    "# Unit 3 Section 8 and 10 Hacks\n",
    "- title: Unit 3 Section 8 and 10 Hacks\n",
    "- tags: [week 16]\n",
    "- toc: true\n",
    "- comments: true"
   ]
  },
  {
   "cell_type": "markdown",
   "metadata": {},
   "source": [
    "# Notes\n",
    "\n",
    "Iteration - Repitition of a Process\n",
    "\n",
    "For Loop - repeats a function for a set number of times; I is the number of times repeated\n",
    "\n",
    "While Loop - used to repeat a section of code an unknown number of times until a specific condition is met\n",
    "\n",
    "Initialization - What sets the counter variable to a starting value. For example (var i = 0) represents an initial value of 0.\n",
    "\n",
    "Condition - Allows the computer to know whether or not to keep repeating the loop.\n",
    "\n",
    "increment/decrement - Modifies the counter variable after each repetition.\n",
    "\n",
    "Indexing / List Index - The position of an element in a list, starting from 0\n",
    "\n",
    "append, remove, pop - Various methods, append adds an element to the end, remove removes at an index, and pop removes the last item.\n",
    "\n",
    "Elements [in a list] - An item in a list.\n",
    "\n",
    "Nesting - Having one data type or function inside another data type or function, such as lists or loops.\n",
    "\n",
    "array - Another name for a list, depends on the language"
   ]
  },
  {
   "cell_type": "markdown",
   "metadata": {},
   "source": [
    "# Exercise 1"
   ]
  },
  {
   "cell_type": "code",
   "execution_count": 3,
   "metadata": {},
   "outputs": [
    {
     "name": "stdout",
     "output_type": "stream",
     "text": [
      "[5, 4, 3, 2, 1]\n",
      "None\n"
     ]
    }
   ],
   "source": [
    "list = [1, 2, 3, 4, 5]\n",
    "list.reverse()\n",
    "print(list)\n",
    "newlist = list.reverse()\n",
    "print(newlist)"
   ]
  },
  {
   "cell_type": "markdown",
   "metadata": {},
   "source": [
    "# Exercise 2"
   ]
  },
  {
   "cell_type": "code",
   "execution_count": 9,
   "metadata": {},
   "outputs": [
    {
     "name": "stdout",
     "output_type": "stream",
     "text": [
      "[0, 1, 2, 3, 4, 5, 6, 7, 8, 9]\n"
     ]
    }
   ],
   "source": [
    "list = [9, 8, 4, 3, 5, 2, 6, 7, 1, 0] \n",
    "\n",
    "loopnumber = 0\n",
    "while True: \n",
    "    count = 0\n",
    "    for i in range(len(list) - 1):\n",
    "        if list[i] > list[i+1]:\n",
    "            temp = list[i]\n",
    "            list[i] = list[i+1]\n",
    "            list[i+1] = temp \n",
    "            count += 1\n",
    "    loopnumber += 1\n",
    "    if count == 0:\n",
    "        break\n",
    "print(list)"
   ]
  },
  {
   "cell_type": "markdown",
   "metadata": {},
   "source": [
    "# Multpile Choice Quiz\n",
    "\n",
    "![](/APCSP/images/question9.png \"Question 10 Correction\")\n",
    "\n",
    "# Correction\n",
    "\n",
    "The question confused me at first as I thought the answer was WHILE loop. My thinking was that a while loop continues to repeat until a condition is met, which in this case was when the user inputs 'quit'. The right answer is FOR loop because when iterating over a list it will continue to repeat unitl the user quits. While loop is more appropriate for conditional statements."
   ]
  },
  {
   "cell_type": "markdown",
   "metadata": {},
   "source": [
    "# Reflection\n",
    "\n",
    "These lessons were a bit challenging at first but with perserverance I was able to understand the concepts which allowed me to perform the hacks well. The presentation was great and I learned a lot from it."
   ]
  },
  {
   "cell_type": "markdown",
   "metadata": {},
   "source": []
  }
 ],
 "metadata": {
  "kernelspec": {
   "display_name": "Python 3.8.10 64-bit",
   "language": "python",
   "name": "python3"
  },
  "language_info": {
   "codemirror_mode": {
    "name": "ipython",
    "version": 3
   },
   "file_extension": ".py",
   "mimetype": "text/x-python",
   "name": "python",
   "nbconvert_exporter": "python",
   "pygments_lexer": "ipython3",
   "version": "3.10.4"
  },
  "orig_nbformat": 4,
  "vscode": {
   "interpreter": {
    "hash": "916dbcbb3f70747c44a77c7bcd40155683ae19c65e1c03b4aa3499c5328201f1"
   }
  }
 },
 "nbformat": 4,
 "nbformat_minor": 2
}
