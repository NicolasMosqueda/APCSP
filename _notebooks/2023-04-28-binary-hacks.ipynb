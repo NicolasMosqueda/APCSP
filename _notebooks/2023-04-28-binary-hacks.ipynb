{
 "cells": [
  {
   "attachments": {},
   "cell_type": "markdown",
   "metadata": {},
   "source": [
    "#  4/16 Binary Hacks\n",
    "- toc: true\n",
    "- image: /images/python.png\n",
    "- categories: []\n",
    "- type: pbl\n",
    "- week: 29"
   ]
  },
  {
   "cell_type": "code",
   "execution_count": 1,
   "metadata": {},
   "outputs": [
    {
     "name": "stdout",
     "output_type": "stream",
     "text": [
      "01 x 11 = 11\n"
     ]
    }
   ],
   "source": [
    "def binary_multiply(num1, num2):\n",
    "  \n",
    "    num1_int = int(num1, 2)\n",
    "    num2_int = int(num2, 2)\n",
    "\n",
    "    result = bin(num1_int * num2_int)[2:]\n",
    "\n",
    "    return result\n",
    "\n",
    "num1 = input(\"Enter first binary number: \")\n",
    "num2 = input(\"Enter second binary number: \")\n",
    "\n",
    "result = binary_multiply(num1, num2)\n",
    "\n",
    "\n",
    "print(f\"{num1} x {num2} = {result}\")\n"
   ]
  },
  {
   "cell_type": "code",
   "execution_count": 2,
   "metadata": {},
   "outputs": [
    {
     "name": "stdout",
     "output_type": "stream",
     "text": [
      "             Age\n",
      "count   8.000000\n",
      "mean   35.500000\n",
      "std    23.268618\n",
      "min    15.000000\n",
      "25%    25.500000\n",
      "50%    28.000000\n",
      "75%    33.750000\n",
      "max    90.000000\n",
      "         Age Grade\n",
      "Gender            \n",
      "F       40.0     A\n",
      "M       31.0     A\n",
      "     Name  Age Gender Grade\n",
      "1    Noor   31      M     B\n",
      "2  Steven   42      M     A\n",
      "6    Ryan   90      F     B\n"
     ]
    }
   ],
   "source": [
    "import pandas as pd\n",
    "\n",
    "\n",
    "data = {\n",
    "    'Name': ['Dillon', 'Noor', 'Steven', 'Lucas', 'Harsha', 'Varalu', 'Ryan', 'Emaad'],\n",
    "    'Age': [24, 31, 42, 27, 29, 26, 90, 15],\n",
    "    'Gender': ['M', 'M', 'M', 'M', 'F', 'F', 'F', 'F'],\n",
    "    'Grade': ['A', 'B', 'A', 'D', 'C', 'F', 'B', 'A']\n",
    "}\n",
    "\n",
    "\n",
    "df = pd.DataFrame(data)\n",
    "\n",
    "# function 1: get summary statistics\n",
    "summary = df.describe()\n",
    "print(summary)\n",
    "\n",
    "# function 2: group by gender and get average age and grade\n",
    "grouped = df.groupby('Gender').agg({'Age': 'mean', 'Grade': lambda x: x.mode()[0]})\n",
    "print(grouped)\n",
    "\n",
    "# function 3: filter by age and grade\n",
    "filtered = df[(df.Age >= 30) & (df.Grade.isin(['A', 'B']))]\n",
    "print(filtered)\n"
   ]
  },
  {
   "attachments": {},
   "cell_type": "markdown",
   "metadata": {},
   "source": [
    "<!DOCTYPE html>\n",
    "<html>\n",
    "<head>\n",
    "\t<title>Student Gender Filter</title>\n",
    "</head>\n",
    "<body>\n",
    "\t<h1>Student Gender Filter</h1>\n",
    "\t<label for=\"gender-filter\">Filter by gender:</label>\n",
    "\t<select id=\"gender-filter\">\n",
    "\t\t<option value=\"all\">All</option>\n",
    "\t\t<option value=\"male\">Male</option>\n",
    "\t\t<option value=\"female\">Female</option>\n",
    "\t</select>\n",
    "\t<table id=\"student-table\">\n",
    "\t\t<thead>\n",
    "\t\t\t<tr>\n",
    "\t\t\t\t<th>Name</th>\n",
    "\t\t\t\t<th>Gender</th>\n",
    "\t\t\t\t<th>Grade</th>\n",
    "\t\t\t</tr>\n",
    "\t\t</thead>\n",
    "\t\t<tbody>\n",
    "\t\t\t<tr>\n",
    "\t\t\t\t<td>John</td>\n",
    "\t\t\t\t<td>Male</td>\n",
    "\t\t\t\t<td>12</td>\n",
    "\t\t\t</tr>\n",
    "\t\t\t<tr>\n",
    "\t\t\t\t<td>Maya</td>\n",
    "\t\t\t\t<td>Female</td>\n",
    "\t\t\t\t<td>10</td>\n",
    "\t\t\t</tr>\n",
    "\t\t\t<tr>\n",
    "\t\t\t\t<td>Josh</td>\n",
    "\t\t\t\t<td>Male</td>\n",
    "\t\t\t\t<td>11</td>\n",
    "\t\t\t</tr>\n",
    "\t\t\t<tr>\n",
    "\t\t\t\t<td>Carol</td>\n",
    "\t\t\t\t<td>Female</td>\n",
    "\t\t\t\t<td>12</td>\n",
    "\t\t\t</tr>\n",
    "\t\t</tbody>\n",
    "\t</table>\n",
    "\t<script>\n",
    "\t\t// define data array\n",
    "\t\tconst students = [\n",
    "\t\t\t{name: 'John', gender: 'Male', grade: 12},\n",
    "\t\t\t{name: 'Maya', gender: 'Female', grade: 10},\n",
    "\t\t\t{name: 'Josh', gender: 'Male', grade: 11},\n",
    "\t\t\t{name: 'Carol', gender: 'Female', grade: 12},\n",
    "\t\t];\n",
    "\t\t// define function to filter students by gender\n",
    "\t\tfunction filterStudentsByGender(gender) {\n",
    "\t\t\tif (gender === 'all') {\n",
    "\t\t\t\treturn students;\n",
    "\t\t\t} else {\n",
    "\t\t\t\treturn students.filter(student => student.gender === gender);\n",
    "\t\t\t}\n",
    "\t\t}\n",
    "\t</script>\n",
    "</body>\n",
    "</html>\n"
   ]
  }
 ],
 "metadata": {
  "kernelspec": {
   "display_name": "base",
   "language": "python",
   "name": "python3"
  },
  "language_info": {
   "codemirror_mode": {
    "name": "ipython",
    "version": 3
   },
   "file_extension": ".py",
   "mimetype": "text/x-python",
   "name": "python",
   "nbconvert_exporter": "python",
   "pygments_lexer": "ipython3",
   "version": "3.9.12"
  },
  "orig_nbformat": 4
 },
 "nbformat": 4,
 "nbformat_minor": 2
}
