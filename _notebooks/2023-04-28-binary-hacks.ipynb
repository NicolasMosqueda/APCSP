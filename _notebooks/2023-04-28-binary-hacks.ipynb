{
 "cells": [
  {
   "attachments": {},
   "cell_type": "markdown",
   "metadata": {},
   "source": [
    "#  4/16 Binary Hacks\n",
    "- toc: true\n",
    "- image: /images/python.png\n",
    "- categories: []\n",
    "- type: pbl\n",
    "- week: 29"
   ]
  },
  {
   "cell_type": "code",
   "execution_count": 1,
   "metadata": {},
   "outputs": [
    {
     "name": "stdout",
     "output_type": "stream",
     "text": [
      "01 x 11 = 11\n"
     ]
    }
   ],
   "source": [
    "def binary_multiply(num1, num2):\n",
    "  \n",
    "    num1_int = int(num1, 2)\n",
    "    num2_int = int(num2, 2)\n",
    "\n",
    "    result = bin(num1_int * num2_int)[2:]\n",
    "\n",
    "    return result\n",
    "\n",
    "num1 = input(\"Enter first binary number: \")\n",
    "num2 = input(\"Enter second binary number: \")\n",
    "\n",
    "result = binary_multiply(num1, num2)\n",
    "\n",
    "\n",
    "print(f\"{num1} x {num2} = {result}\")\n"
   ]
  },
  {
   "cell_type": "code",
   "execution_count": 2,
   "metadata": {},
   "outputs": [
    {
     "name": "stdout",
     "output_type": "stream",
     "text": [
      "             Age\n",
      "count   8.000000\n",
      "mean   35.500000\n",
      "std    23.268618\n",
      "min    15.000000\n",
      "25%    25.500000\n",
      "50%    28.000000\n",
      "75%    33.750000\n",
      "max    90.000000\n",
      "         Age Grade\n",
      "Gender            \n",
      "F       40.0     A\n",
      "M       31.0     A\n",
      "     Name  Age Gender Grade\n",
      "1    Noor   31      M     B\n",
      "2  Steven   42      M     A\n",
      "6    Ryan   90      F     B\n"
     ]
    }
   ],
   "source": [
    "import pandas as pd\n",
    "\n",
    "\n",
    "data = {\n",
    "    'Name': ['Dillon', 'Noor', 'Steven', 'Lucas', 'Harsha', 'Varalu', 'Ryan', 'Emaad'],\n",
    "    'Age': [24, 31, 42, 27, 29, 26, 90, 15],\n",
    "    'Gender': ['M', 'M', 'M', 'M', 'F', 'F', 'F', 'F'],\n",
    "    'Grade': ['A', 'B', 'A', 'D', 'C', 'F', 'B', 'A']\n",
    "}\n",
    "\n",
    "\n",
    "df = pd.DataFrame(data)\n",
    "\n",
    "# function 1: get summary statistics\n",
    "summary = df.describe()\n",
    "print(summary)\n",
    "\n",
    "# function 2: group by gender and get average age and grade\n",
    "grouped = df.groupby('Gender').agg({'Age': 'mean', 'Grade': lambda x: x.mode()[0]})\n",
    "print(grouped)\n",
    "\n",
    "# function 3: filter by age and grade\n",
    "filtered = df[(df.Age >= 30) & (df.Grade.isin(['A', 'B']))]\n",
    "print(filtered)\n"
   ]
  },
  {
   "attachments": {},
   "cell_type": "markdown",
   "metadata": {},
   "source": [
    "<!DOCTYPE html>\n",
    "<html>\n",
    "<head>\n",
    "\t<title>Student Gender Filter</title>\n",
    "</head>\n",
    "<body>\n",
    "\t<h1>Student Gender Filter</h1>\n",
    "\t<label for=\"gender-filter\">Filter by gender:</label>\n",
    "\t<select id=\"gender-filter\">\n",
    "\t\t<option value=\"all\">All</option>\n",
    "\t\t<option value=\"male\">Male</option>\n",
    "\t\t<option value=\"female\">Female</option>\n",
    "\t</select>\n",
    "\t<table id=\"student-table\">\n",
    "\t\t<thead>\n",
    "\t\t\t<tr>\n",
    "\t\t\t\t<th>Name</th>\n",
    "\t\t\t\t<th>Gender</th>\n",
    "\t\t\t\t<th>Grade</th>\n",
    "\t\t\t</tr>\n",
    "\t\t</thead>\n",
    "\t\t<tbody>\n",
    "\t\t\t<tr>\n",
    "\t\t\t\t<td>John</td>\n",
    "\t\t\t\t<td>Male</td>\n",
    "\t\t\t\t<td>12</td>\n",
    "\t\t\t</tr>\n",
    "\t\t\t<tr>\n",
    "\t\t\t\t<td>Maya</td>\n",
    "\t\t\t\t<td>Female</td>\n",
    "\t\t\t\t<td>10</td>\n",
    "\t\t\t</tr>\n",
    "\t\t\t<tr>\n",
    "\t\t\t\t<td>Josh</td>\n",
    "\t\t\t\t<td>Male</td>\n",
    "\t\t\t\t<td>11</td>\n",
    "\t\t\t</tr>\n",
    "\t\t\t<tr>\n",
    "\t\t\t\t<td>Carol</td>\n",
    "\t\t\t\t<td>Female</td>\n",
    "\t\t\t\t<td>12</td>\n",
    "\t\t\t</tr>\n",
    "\t\t</tbody>\n",
    "\t</table>\n",
    "\t<script>\n",
    "\t\t// define data array\n",
    "\t\tconst students = [\n",
    "\t\t\t{name: 'John', gender: 'Male', grade: 12},\n",
    "\t\t\t{name: 'Maya', gender: 'Female', grade: 10},\n",
    "\t\t\t{name: 'Josh', gender: 'Male', grade: 11},\n",
    "\t\t\t{name: 'Carol', gender: 'Female', grade: 12},\n",
    "\t\t];\n",
    "\t\t// define function to filter students by gender\n",
    "\t\tfunction filterStudentsByGender(gender) {\n",
    "\t\t\tif (gender === 'all') {\n",
    "\t\t\t\treturn students;\n",
    "\t\t\t} else {\n",
    "\t\t\t\treturn students.filter(student => student.gender === gender);\n",
    "\t\t\t}\n",
    "\t\t}\n",
    "\t</script>\n",
    "</body>\n",
    "</html>\n"
   ]
  },
  {
   "cell_type": "code",
   "execution_count": 1,
   "metadata": {},
   "outputs": [
    {
     "ename": "FileNotFoundError",
     "evalue": "[Errno 2] No such file or directory: 'valid_guesses.csv'",
     "output_type": "error",
     "traceback": [
      "\u001b[1;31m---------------------------------------------------------------------------\u001b[0m",
      "\u001b[1;31mFileNotFoundError\u001b[0m                         Traceback (most recent call last)",
      "\u001b[1;32mc:\\Users\\nicom\\Desktop\\Github\\APCSP\\_notebooks\\2023-04-28-binary-hacks.ipynb Cell 5\u001b[0m in \u001b[0;36m<cell line: 1>\u001b[1;34m()\u001b[0m\n\u001b[1;32m----> <a href='vscode-notebook-cell:/c%3A/Users/nicom/Desktop/Github/APCSP/_notebooks/2023-04-28-binary-hacks.ipynb#W4sZmlsZQ%3D%3D?line=0'>1</a>\u001b[0m \u001b[39mwith\u001b[39;00m \u001b[39mopen\u001b[39;49m(\u001b[39m'\u001b[39;49m\u001b[39mvalid_guesses.csv\u001b[39;49m\u001b[39m'\u001b[39;49m, \u001b[39m'\u001b[39;49m\u001b[39mr\u001b[39;49m\u001b[39m'\u001b[39;49m) \u001b[39mas\u001b[39;00m f:\n\u001b[0;32m      <a href='vscode-notebook-cell:/c%3A/Users/nicom/Desktop/Github/APCSP/_notebooks/2023-04-28-binary-hacks.ipynb#W4sZmlsZQ%3D%3D?line=1'>2</a>\u001b[0m     word_list \u001b[39m=\u001b[39m []\n\u001b[0;32m      <a href='vscode-notebook-cell:/c%3A/Users/nicom/Desktop/Github/APCSP/_notebooks/2023-04-28-binary-hacks.ipynb#W4sZmlsZQ%3D%3D?line=2'>3</a>\u001b[0m     \u001b[39mfor\u001b[39;00m word \u001b[39min\u001b[39;00m f:\n",
      "\u001b[1;31mFileNotFoundError\u001b[0m: [Errno 2] No such file or directory: 'valid_guesses.csv'"
     ]
    }
   ],
   "source": [
    "with open('valid_guesses.csv', 'r') as f:\n",
    "    word_list = []\n",
    "    for word in f:\n",
    "        word = word.strip()\n",
    "        if (word[0] not in ['a', 'b', 'c', 'd'] and word[-1] in ['a', 'b', 'c', 'd']):\n",
    "            word_list.append(word)\n",
    "        elif (word[0] in ['a', 'b', 'c', 'd'] and word[-1] not in ['a', 'b', 'c', 'd']):\n",
    "            word_list.append(word)\n",
    "        elif (word[0] not in ['a', 'b', 'c', 'd'] and word[-1] not in ['a', 'b', 'c', 'd']):\n",
    "            word_list.append(word + 'ism')\n",
    "    print(word_list)\n"
   ]
  },
  {
   "cell_type": "code",
   "execution_count": 7,
   "metadata": {},
   "outputs": [],
   "source": [
    "simulations = [\n",
    "    {'name': 'Simulation A', 'time': 10.5, 'success': True},\n",
    "    {'name': 'Simulation B', 'time': 12.3, 'success': False},\n",
    "    {'name': 'Simulation C', 'time': 8.1, 'success': True},\n",
    "    {'name': 'Simulation D', 'time': 9.2, 'success': True},\n",
    "    {'name': 'Simulation E', 'time': 11.7, 'success': False}\n",
    "]\n",
    "\n",
    "# Sort by time and success\n",
    "\n",
    "sorted_simulations = sorted(simulations, key=lambda s: s['time'])\n",
    "sorted_simulations = sorted(simulations, key=lambda s: s['success'])\n",
    "\n",
    "\n"
   ]
  },
  {
   "cell_type": "code",
   "execution_count": 8,
   "metadata": {},
   "outputs": [
    {
     "name": "stdout",
     "output_type": "stream",
     "text": [
      "Simulation 1: 4\n",
      "Simulation 2: 6\n",
      "Simulation 3: 2\n",
      "Simulation 4: 1\n",
      "Simulation 5: 2\n",
      "Simulation 6: 4\n",
      "Simulation 7: 5\n",
      "Simulation 8: 6\n",
      "Simulation 9: 5\n",
      "Simulation 10: 3\n"
     ]
    }
   ],
   "source": [
    "import random\n",
    "\n",
    "# Create a list of possible outcomes\n",
    "outcomes = [1, 2, 3, 4, 5, 6]\n",
    "\n",
    "# Define the number of times to simulate the random number generator\n",
    "num_simulations = 10\n",
    "\n",
    "# Simulate the random number generator\n",
    "for i in range(num_simulations):\n",
    "    outcome = random.choice(outcomes)\n",
    "    print(f\"Simulation {i+1}: {outcome}\")\n"
   ]
  },
  {
   "cell_type": "code",
   "execution_count": 10,
   "metadata": {},
   "outputs": [
    {
     "ename": "FileNotFoundError",
     "evalue": "No such file: 'c:\\Users\\nicom\\Desktop\\Github\\APCSP\\_notebooks\\waldo.jpg'",
     "output_type": "error",
     "traceback": [
      "\u001b[1;31m---------------------------------------------------------------------------\u001b[0m",
      "\u001b[1;31mFileNotFoundError\u001b[0m                         Traceback (most recent call last)",
      "\u001b[1;32mc:\\Users\\nicom\\Desktop\\Github\\APCSP\\_notebooks\\2023-04-28-binary-hacks.ipynb Cell 8\u001b[0m in \u001b[0;36m<cell line: 3>\u001b[1;34m()\u001b[0m\n\u001b[0;32m      <a href='vscode-notebook-cell:/c%3A/Users/nicom/Desktop/Github/APCSP/_notebooks/2023-04-28-binary-hacks.ipynb#X11sZmlsZQ%3D%3D?line=0'>1</a>\u001b[0m \u001b[39mfrom\u001b[39;00m \u001b[39mskimage\u001b[39;00m \u001b[39mimport\u001b[39;00m io\n\u001b[0;32m      <a href='vscode-notebook-cell:/c%3A/Users/nicom/Desktop/Github/APCSP/_notebooks/2023-04-28-binary-hacks.ipynb#X11sZmlsZQ%3D%3D?line=1'>2</a>\u001b[0m \u001b[39mfrom\u001b[39;00m \u001b[39mmatplotlib\u001b[39;00m \u001b[39mimport\u001b[39;00m pyplot \u001b[39mas\u001b[39;00m plt\n\u001b[1;32m----> <a href='vscode-notebook-cell:/c%3A/Users/nicom/Desktop/Github/APCSP/_notebooks/2023-04-28-binary-hacks.ipynb#X11sZmlsZQ%3D%3D?line=2'>3</a>\u001b[0m waldo \u001b[39m=\u001b[39m io\u001b[39m.\u001b[39;49mimread(\u001b[39m'\u001b[39;49m\u001b[39mwaldo.jpg\u001b[39;49m\u001b[39m'\u001b[39;49m)\n\u001b[0;32m      <a href='vscode-notebook-cell:/c%3A/Users/nicom/Desktop/Github/APCSP/_notebooks/2023-04-28-binary-hacks.ipynb#X11sZmlsZQ%3D%3D?line=3'>4</a>\u001b[0m plt\u001b[39m.\u001b[39mimshow(waldo)\n",
      "File \u001b[1;32mc:\\Users\\nicom\\anaconda3\\lib\\site-packages\\skimage\\io\\_io.py:53\u001b[0m, in \u001b[0;36mimread\u001b[1;34m(fname, as_gray, plugin, **plugin_args)\u001b[0m\n\u001b[0;32m     50\u001b[0m         plugin \u001b[39m=\u001b[39m \u001b[39m'\u001b[39m\u001b[39mtifffile\u001b[39m\u001b[39m'\u001b[39m\n\u001b[0;32m     52\u001b[0m \u001b[39mwith\u001b[39;00m file_or_url_context(fname) \u001b[39mas\u001b[39;00m fname:\n\u001b[1;32m---> 53\u001b[0m     img \u001b[39m=\u001b[39m call_plugin(\u001b[39m'\u001b[39m\u001b[39mimread\u001b[39m\u001b[39m'\u001b[39m, fname, plugin\u001b[39m=\u001b[39mplugin, \u001b[39m*\u001b[39m\u001b[39m*\u001b[39mplugin_args)\n\u001b[0;32m     55\u001b[0m \u001b[39mif\u001b[39;00m \u001b[39mnot\u001b[39;00m \u001b[39mhasattr\u001b[39m(img, \u001b[39m'\u001b[39m\u001b[39mndim\u001b[39m\u001b[39m'\u001b[39m):\n\u001b[0;32m     56\u001b[0m     \u001b[39mreturn\u001b[39;00m img\n",
      "File \u001b[1;32mc:\\Users\\nicom\\anaconda3\\lib\\site-packages\\skimage\\io\\manage_plugins.py:207\u001b[0m, in \u001b[0;36mcall_plugin\u001b[1;34m(kind, *args, **kwargs)\u001b[0m\n\u001b[0;32m    203\u001b[0m     \u001b[39mexcept\u001b[39;00m \u001b[39mIndexError\u001b[39;00m:\n\u001b[0;32m    204\u001b[0m         \u001b[39mraise\u001b[39;00m \u001b[39mRuntimeError\u001b[39;00m(\u001b[39m'\u001b[39m\u001b[39mCould not find the plugin \u001b[39m\u001b[39m\"\u001b[39m\u001b[39m%s\u001b[39;00m\u001b[39m\"\u001b[39m\u001b[39m for \u001b[39m\u001b[39m%s\u001b[39;00m\u001b[39m.\u001b[39m\u001b[39m'\u001b[39m \u001b[39m%\u001b[39m\n\u001b[0;32m    205\u001b[0m                            (plugin, kind))\n\u001b[1;32m--> 207\u001b[0m \u001b[39mreturn\u001b[39;00m func(\u001b[39m*\u001b[39margs, \u001b[39m*\u001b[39m\u001b[39m*\u001b[39mkwargs)\n",
      "File \u001b[1;32mc:\\Users\\nicom\\anaconda3\\lib\\site-packages\\skimage\\io\\_plugins\\imageio_plugin.py:10\u001b[0m, in \u001b[0;36mimread\u001b[1;34m(*args, **kwargs)\u001b[0m\n\u001b[0;32m      8\u001b[0m \u001b[39m@wraps\u001b[39m(imageio_imread)\n\u001b[0;32m      9\u001b[0m \u001b[39mdef\u001b[39;00m \u001b[39mimread\u001b[39m(\u001b[39m*\u001b[39margs, \u001b[39m*\u001b[39m\u001b[39m*\u001b[39mkwargs):\n\u001b[1;32m---> 10\u001b[0m     \u001b[39mreturn\u001b[39;00m np\u001b[39m.\u001b[39masarray(imageio_imread(\u001b[39m*\u001b[39margs, \u001b[39m*\u001b[39m\u001b[39m*\u001b[39mkwargs))\n",
      "File \u001b[1;32mc:\\Users\\nicom\\anaconda3\\lib\\site-packages\\imageio\\core\\functions.py:265\u001b[0m, in \u001b[0;36mimread\u001b[1;34m(uri, format, **kwargs)\u001b[0m\n\u001b[0;32m    260\u001b[0m     \u001b[39mraise\u001b[39;00m \u001b[39mTypeError\u001b[39;00m(\n\u001b[0;32m    261\u001b[0m         \u001b[39m'\u001b[39m\u001b[39mInvalid keyword argument \u001b[39m\u001b[39m\"\u001b[39m\u001b[39mmode\u001b[39m\u001b[39m\"\u001b[39m\u001b[39m, \u001b[39m\u001b[39m'\u001b[39m \u001b[39m'\u001b[39m\u001b[39mperhaps you mean \u001b[39m\u001b[39m\"\u001b[39m\u001b[39mpilmode\u001b[39m\u001b[39m\"\u001b[39m\u001b[39m?\u001b[39m\u001b[39m'\u001b[39m\n\u001b[0;32m    262\u001b[0m     )\n\u001b[0;32m    264\u001b[0m \u001b[39m# Get reader and read first\u001b[39;00m\n\u001b[1;32m--> 265\u001b[0m reader \u001b[39m=\u001b[39m read(uri, \u001b[39mformat\u001b[39m, \u001b[39m\"\u001b[39m\u001b[39mi\u001b[39m\u001b[39m\"\u001b[39m, \u001b[39m*\u001b[39m\u001b[39m*\u001b[39mkwargs)\n\u001b[0;32m    266\u001b[0m \u001b[39mwith\u001b[39;00m reader:\n\u001b[0;32m    267\u001b[0m     \u001b[39mreturn\u001b[39;00m reader\u001b[39m.\u001b[39mget_data(\u001b[39m0\u001b[39m)\n",
      "File \u001b[1;32mc:\\Users\\nicom\\anaconda3\\lib\\site-packages\\imageio\\core\\functions.py:172\u001b[0m, in \u001b[0;36mget_reader\u001b[1;34m(uri, format, mode, **kwargs)\u001b[0m\n\u001b[0;32m    149\u001b[0m \u001b[39m\"\"\" get_reader(uri, format=None, mode='?', **kwargs)\u001b[39;00m\n\u001b[0;32m    150\u001b[0m \n\u001b[0;32m    151\u001b[0m \u001b[39mReturns a :class:`.Reader` object which can be used to read data\u001b[39;00m\n\u001b[1;32m   (...)\u001b[0m\n\u001b[0;32m    168\u001b[0m \u001b[39m    to see what arguments are available for a particular format.\u001b[39;00m\n\u001b[0;32m    169\u001b[0m \u001b[39m\"\"\"\u001b[39;00m\n\u001b[0;32m    171\u001b[0m \u001b[39m# Create request object\u001b[39;00m\n\u001b[1;32m--> 172\u001b[0m request \u001b[39m=\u001b[39m Request(uri, \u001b[39m\"\u001b[39m\u001b[39mr\u001b[39m\u001b[39m\"\u001b[39m \u001b[39m+\u001b[39m mode, \u001b[39m*\u001b[39m\u001b[39m*\u001b[39mkwargs)\n\u001b[0;32m    174\u001b[0m \u001b[39m# Get format\u001b[39;00m\n\u001b[0;32m    175\u001b[0m \u001b[39mif\u001b[39;00m \u001b[39mformat\u001b[39m \u001b[39mis\u001b[39;00m \u001b[39mnot\u001b[39;00m \u001b[39mNone\u001b[39;00m:\n",
      "File \u001b[1;32mc:\\Users\\nicom\\anaconda3\\lib\\site-packages\\imageio\\core\\request.py:124\u001b[0m, in \u001b[0;36mRequest.__init__\u001b[1;34m(self, uri, mode, **kwargs)\u001b[0m\n\u001b[0;32m    121\u001b[0m     \u001b[39mraise\u001b[39;00m \u001b[39mValueError\u001b[39;00m(\u001b[39m'\u001b[39m\u001b[39mRequest requires mode[1] to be in \u001b[39m\u001b[39m\"\u001b[39m\u001b[39miIvV?\u001b[39m\u001b[39m\"\u001b[39m\u001b[39m'\u001b[39m)\n\u001b[0;32m    123\u001b[0m \u001b[39m# Parse what was given\u001b[39;00m\n\u001b[1;32m--> 124\u001b[0m \u001b[39mself\u001b[39;49m\u001b[39m.\u001b[39;49m_parse_uri(uri)\n\u001b[0;32m    126\u001b[0m \u001b[39m# Set extension\u001b[39;00m\n\u001b[0;32m    127\u001b[0m \u001b[39mif\u001b[39;00m \u001b[39mself\u001b[39m\u001b[39m.\u001b[39m_filename \u001b[39mis\u001b[39;00m \u001b[39mnot\u001b[39;00m \u001b[39mNone\u001b[39;00m:\n",
      "File \u001b[1;32mc:\\Users\\nicom\\anaconda3\\lib\\site-packages\\imageio\\core\\request.py:260\u001b[0m, in \u001b[0;36mRequest._parse_uri\u001b[1;34m(self, uri)\u001b[0m\n\u001b[0;32m    257\u001b[0m \u001b[39mif\u001b[39;00m is_read_request:\n\u001b[0;32m    258\u001b[0m     \u001b[39m# Reading: check that the file exists (but is allowed a dir)\u001b[39;00m\n\u001b[0;32m    259\u001b[0m     \u001b[39mif\u001b[39;00m \u001b[39mnot\u001b[39;00m os\u001b[39m.\u001b[39mpath\u001b[39m.\u001b[39mexists(fn):\n\u001b[1;32m--> 260\u001b[0m         \u001b[39mraise\u001b[39;00m \u001b[39mFileNotFoundError\u001b[39;00m(\u001b[39m\"\u001b[39m\u001b[39mNo such file: \u001b[39m\u001b[39m'\u001b[39m\u001b[39m%s\u001b[39;00m\u001b[39m'\u001b[39m\u001b[39m\"\u001b[39m \u001b[39m%\u001b[39m fn)\n\u001b[0;32m    261\u001b[0m \u001b[39melse\u001b[39;00m:\n\u001b[0;32m    262\u001b[0m     \u001b[39m# Writing: check that the directory to write to does exist\u001b[39;00m\n\u001b[0;32m    263\u001b[0m     dn \u001b[39m=\u001b[39m os\u001b[39m.\u001b[39mpath\u001b[39m.\u001b[39mdirname(fn)\n",
      "\u001b[1;31mFileNotFoundError\u001b[0m: No such file: 'c:\\Users\\nicom\\Desktop\\Github\\APCSP\\_notebooks\\waldo.jpg'"
     ]
    }
   ],
   "source": [
    "from skimage import io\n",
    "from matplotlib import pyplot as plt\n",
    "waldo = io.imread('waldo.jpg')\n",
    "plt.imshow(waldo)"
   ]
  }
 ],
 "metadata": {
  "kernelspec": {
   "display_name": "base",
   "language": "python",
   "name": "python3"
  },
  "language_info": {
   "codemirror_mode": {
    "name": "ipython",
    "version": 3
   },
   "file_extension": ".py",
   "mimetype": "text/x-python",
   "name": "python",
   "nbconvert_exporter": "python",
   "pygments_lexer": "ipython3",
   "version": "3.9.12"
  },
  "orig_nbformat": 4
 },
 "nbformat": 4,
 "nbformat_minor": 2
}
