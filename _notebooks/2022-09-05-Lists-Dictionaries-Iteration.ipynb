{
 "cells": [
  {
   "cell_type": "markdown",
   "metadata": {},
   "source": [
    "# Lists, Dictionaries, Iterations\n",
    "\n",
    "\n",
    "  "
   ]
  },
  {
   "cell_type": "markdown",
   "metadata": {},
   "source": []
  },
  {
   "cell_type": "markdown",
   "metadata": {},
   "source": [
    "# Lists/Dictionaries\n",
    "> Bash Check\n",
    "- toc: true\n",
    "- branch: master\n",
    "- badges: true\n",
    "- comments: true\n",
    "- author: Nicolas Mosqueda\n",
    "- categories: [Week 2]\n",
    "- image: images/chart-preview.png"
   ]
  },
  {
   "cell_type": "code",
   "execution_count": 30,
   "metadata": {
    "vscode": {
     "languageId": "shellscript"
    }
   },
   "outputs": [
    {
     "name": "stdout",
     "output_type": "stream",
     "text": [
      "[{'FirstName': 'Nicolas', 'LastName': 'Mosqueda', 'DOB': 'July 19', 'Residence': 'San Diego', 'Email': 'nicomosqueda02@gmail.com', 'Cars': ['2013-Nissan Versa'], 'FavoriteFootballPlayers': ['Josh Allen', 'Patrick Mahomes', 'Russel Wilson']}, {'FirstName': 'Ben', 'LastName': 'Lee', 'DOB': 'January 19', 'Residence': 'San Diego', 'Email': 'benjaminlee@gmail.com', 'Cars': ['Honda Civic'], 'FavoriteFootballPlayers': ['Tom Brady', 'Patrick Mahomes', 'Dak Prescott']}]\n"
     ]
    }
   ],
   "source": [
    "# Online Python - IDE, Editor, Compiler, Interpreter\n",
    "\n",
    "# Define an empty List called InfoDb\n",
    "InfoDb = []\n",
    "\n",
    "# InfoDB is a data structure with expected Keys and Values\n",
    "\n",
    "# Append to List a Dictionary of key/values related to a person and cars\n",
    "InfoDb.append({\n",
    "    \"FirstName\": \"Nicolas\",\n",
    "    \"LastName\": \"Mosqueda\",\n",
    "    \"DOB\": \"July 19\",\n",
    "    \"Residence\": \"San Diego\",\n",
    "    \"Email\": \"nicomosqueda02@gmail.com\",\n",
    "    \"Cars\": [\"2013-Nissan Versa\"],\n",
    "    \"FavoriteFootballPlayers\": [\"Josh Allen\", \"Patrick Mahomes\", \"Russel Wilson\"]\n",
    "})\n",
    "\n",
    "InfoDb.append({\n",
    "    \"FirstName\": \"Ben\",\n",
    "    \"LastName\": \"Lee\",\n",
    "    \"DOB\": \"January 19\",\n",
    "    \"Residence\": \"San Diego\",\n",
    "    \"Email\": \"benjaminlee@gmail.com\",\n",
    "    \"Cars\": [\"Honda Civic\"],\n",
    "    \"FavoriteFootballPlayers\": [\"Tom Brady\", \"Patrick Mahomes\", \"Dak Prescott\"]\n",
    "})\n",
    "\n",
    "# Print the data structure\n",
    "print(InfoDb)"
   ]
  },
  {
   "cell_type": "code",
   "execution_count": 31,
   "metadata": {
    "vscode": {
     "languageId": "shellscript"
    }
   },
   "outputs": [
    {
     "name": "stdout",
     "output_type": "stream",
     "text": [
      "FirstName:  Nicolas\n",
      "LastName:  Mosqueda\n",
      "DOB:  July 19\n",
      "Residence:  San Diego\n",
      "Email:  nicomosqueda02@gmail.com\n",
      "FavoriteFootballPlayers:  ['Josh Allen', 'Patrick Mahomes', 'Russel Wilson']\n",
      "FirstName:  Ben\n",
      "LastName:  Lee\n",
      "DOB:  January 19\n",
      "Residence:  San Diego\n",
      "Email:  benjaminlee@gmail.com\n",
      "FavoriteFootballPlayers:  ['Tom Brady', 'Patrick Mahomes', 'Dak Prescott']\n"
     ]
    }
   ],
   "source": [
    "\n",
    "# Online Python - IDE, Editor, Compiler, Interpreter\n",
    "\n",
    "# Define an empty List called InfoDb\n",
    "InfoDb = []\n",
    "\n",
    "# InfoDB is a data structure with expected Keys and Values\n",
    "\n",
    "# Append to List a Dictionary of key/values related to a person and cars\n",
    "InfoDb.append({\n",
    "    \"FirstName\": \"Nicolas\",\n",
    "    \"LastName\": \"Mosqueda\",\n",
    "    \"DOB\": \"July 19\",\n",
    "    \"Residence\": \"San Diego\",\n",
    "    \"Email\": \"nicomosqueda02@gmail.com\",\n",
    "    \"Cars\": [\"2013-Nissan Versa\"],\n",
    "    \"FavoriteFootballPlayers\": [\"Josh Allen\", \"Patrick Mahomes\", \"Russel Wilson\"]\n",
    "})\n",
    "\n",
    "InfoDb.append({\n",
    "    \"FirstName\": \"Ben\",\n",
    "    \"LastName\": \"Lee\",\n",
    "    \"DOB\": \"January 19\",\n",
    "    \"Residence\": \"San Diego\",\n",
    "    \"Email\": \"benjaminlee@gmail.com\",\n",
    "    \"Cars\": [\"Honda Civic\"],\n",
    "    \"FavoriteFootballPlayers\": [\"Tom Brady\", \"Patrick Mahomes\", \"Dak Prescott\"]\n",
    "})\n",
    "\n",
    "def printInfo(data):\n",
    "    print(\"FirstName: \", data[\"FirstName\"])\n",
    "    print(\"LastName: \", data[\"LastName\"])\n",
    "    print(\"DOB: \", data[\"DOB\"])\n",
    "    print(\"Residence: \", data[\"Residence\"])\n",
    "    print(\"Email: \", data[\"Email\"])\n",
    "    print(\"FavoriteFootballPlayers: \", data[\"FavoriteFootballPlayers\"])\n",
    "    \n",
    "    \n",
    "# For Loop:\n",
    "for val in InfoDb:\n",
    "    printInfo(val)\n"
   ]
  },
  {
   "cell_type": "code",
   "execution_count": 32,
   "metadata": {
    "vscode": {
     "languageId": "shellscript"
    }
   },
   "outputs": [
    {
     "name": "stdout",
     "output_type": "stream",
     "text": [
      "FirstName:  Nicolas\n",
      "LastName:  Mosqueda\n",
      "DOB:  July 19\n",
      "Residence:  San Diego\n",
      "Email:  nicomosqueda02@gmail.com\n",
      "FavoriteFootballPlayers:  ['Josh Allen', 'Patrick Mahomes', 'Russel Wilson']\n",
      "FirstName:  Ben\n",
      "LastName:  Lee\n",
      "DOB:  January 19\n",
      "Residence:  San Diego\n",
      "Email:  benjaminlee@gmail.com\n",
      "FavoriteFootballPlayers:  ['Tom Brady', 'Patrick Mahomes', 'Dak Prescott']\n"
     ]
    }
   ],
   "source": [
    "# For Loop with Index\n",
    "\n",
    "for index in range(len(InfoDb)):\n",
    "    printInfo(InfoDb[index])"
   ]
  },
  {
   "cell_type": "code",
   "execution_count": 33,
   "metadata": {
    "vscode": {
     "languageId": "shellscript"
    }
   },
   "outputs": [
    {
     "name": "stdout",
     "output_type": "stream",
     "text": [
      "FirstName:  Nicolas\n",
      "LastName:  Mosqueda\n",
      "DOB:  July 19\n",
      "Residence:  San Diego\n",
      "Email:  nicomosqueda02@gmail.com\n",
      "FavoriteFootballPlayers:  ['Josh Allen', 'Patrick Mahomes', 'Russel Wilson']\n",
      "FirstName:  Ben\n",
      "LastName:  Lee\n",
      "DOB:  January 19\n",
      "Residence:  San Diego\n",
      "Email:  benjaminlee@gmail.com\n",
      "FavoriteFootballPlayers:  ['Tom Brady', 'Patrick Mahomes', 'Dak Prescott']\n"
     ]
    }
   ],
   "source": [
    "# While Loop\n",
    "index = 0\n",
    "while index < len(InfoDb):\n",
    "    printInfo(InfoDb[index])\n",
    "    index+=1"
   ]
  },
  {
   "cell_type": "code",
   "execution_count": 34,
   "metadata": {
    "vscode": {
     "languageId": "shellscript"
    }
   },
   "outputs": [
    {
     "name": "stdout",
     "output_type": "stream",
     "text": [
      "FirstName:  Nicolas\n",
      "LastName:  Mosqueda\n",
      "DOB:  July 19\n",
      "Residence:  San Diego\n",
      "Email:  nicomosqueda02@gmail.com\n",
      "FavoriteFootballPlayers:  ['Josh Allen', 'Patrick Mahomes', 'Russel Wilson']\n",
      "FirstName:  Ben\n",
      "LastName:  Lee\n",
      "DOB:  January 19\n",
      "Residence:  San Diego\n",
      "Email:  benjaminlee@gmail.com\n",
      "FavoriteFootballPlayers:  ['Tom Brady', 'Patrick Mahomes', 'Dak Prescott']\n"
     ]
    }
   ],
   "source": [
    "# Recursion\n",
    "def recursion(i):\n",
    "    if i >= len(InfoDb): return\n",
    "\n",
    "    printInfo(InfoDb[i])\n",
    "    return recursion(i + 1)\n",
    "\n",
    "recursion(0)"
   ]
  },
  {
   "cell_type": "code",
   "execution_count": 35,
   "metadata": {
    "vscode": {
     "languageId": "shellscript"
    }
   },
   "outputs": [
    {
     "name": "stdout",
     "output_type": "stream",
     "text": [
      "-------------------------\n",
      "What is the formula (value-mean)/stand deviation used for?: \n",
      "A. Z-score\n",
      "B. mean\n",
      "C. median\n",
      "D. IQR\n",
      "CORRECT!\n",
      "-------------------------\n",
      "What is the median of the following sequence of numbers 1,2,5,8,9?: \n",
      "A. 2\n",
      "B. 5\n",
      "C. 8\n",
      "D. 6\n",
      "WRONG!\n",
      "-------------------------\n",
      "What is the standard deviation of the following sequence 5,5,15,15 ?: \n",
      "A. 10\n",
      "B. 15\n",
      "C. 5\n",
      "D. 0\n",
      "CORRECT!\n",
      "-------------------------\n",
      "What is the mean of the following sequence 2,4,6,10,20?: \n",
      "A. 8.4\n",
      "B. 10\n",
      "C. 7.6\n",
      "D. 9\n",
      "CORRECT!\n",
      "-------------------------\n",
      "RESULTS\n",
      "-------------------------\n",
      "Answers: A B C A \n",
      "Guesses:  A A C A \n",
      "Your score is: 75%\n",
      "Bye!\n"
     ]
    }
   ],
   "source": [
    "def new_game():\n",
    "  \n",
    "   guesses = []\n",
    "   correct_guesses = 0\n",
    "   question_num = 1\n",
    "  \n",
    "   for key in questions:\n",
    "       print(\"-------------------------\")\n",
    "       print(key)\n",
    "       for i in options[question_num-1]:\n",
    "           print(i)\n",
    "       guess = input(\"Enter (A, B, C, or D): \")\n",
    "       guess = guess.upper()\n",
    "       guesses.append(guess)\n",
    "      \n",
    "       correct_guesses += check_answer(questions.get(key),guess)\n",
    "       question_num += 1\n",
    "      \n",
    "   display_score(correct_guesses, guesses)\n",
    "  \n",
    "# -------------------------\n",
    "def check_answer(answer, guess):\n",
    "  \n",
    "   if answer == guess:\n",
    "       print(\"CORRECT!\")\n",
    "       return 1\n",
    "   else:\n",
    "       print(\"WRONG!\")\n",
    "       return 0\n",
    "# -------------------------\n",
    "def display_score(correct_guesses, guesses):\n",
    "   print(\"-------------------------\")\n",
    "   print(\"RESULTS\")\n",
    "   print(\"-------------------------\")\n",
    "  \n",
    "   print(\"Answers: \", end=\"\")\n",
    "   for i in questions:\n",
    "       print(questions.get(i), end =\" \")\n",
    "   print()\n",
    "      \n",
    "   print(\"Guesses:  \", end=\"\")\n",
    "   for i in guesses:\n",
    "       print(i, end =\" \")\n",
    "   print()\n",
    "  \n",
    "   score = int((correct_guesses/len(questions))*100)\n",
    "   print(\"Your score is: \"+str(score)+\"%\")\n",
    "# -------------------------\n",
    "def play_again():\n",
    "  \n",
    "   response = input(\"Do you want to play again?: (yes or no): \")\n",
    "   response = response.upper()\n",
    "  \n",
    "   if response == \"YES\":\n",
    "       return True\n",
    "   else:\n",
    "       return False\n",
    "# -------------------------\n",
    " \n",
    " \n",
    "questions = {\n",
    "\"What is the formula (value-mean)/stand deviation used for?: \": \"A\",\n",
    "\"What is the median of the following sequence of numbers 1,2,5,8,9?: \": \"B\",\n",
    "\"What is the standard deviation of the following sequence 5,5,15,15 ?: \": \"C\",\n",
    "\"What is the mean of the following sequence 2,4,6,10,20?: \": \"A\",\n",
    "}\n",
    " \n",
    "options = [[\"A. Z-score\", \"B. mean\", \"C. median\", \"D. IQR\"],\n",
    "          [\"A. 2\", \"B. 5\", \"C. 8\", \"D. 6\"],\n",
    "          [\"A. 10\", \"B. 15\", \"C. 5\", \"D. 0\"],\n",
    "          [\"A. 8.4\", \"B. 10\", \"C. 7.6\", \"D. 9\"]]\n",
    " \n",
    "new_game()\n",
    " \n",
    "while play_again():\n",
    "   new_game()\n",
    "  \n",
    "print(\"Bye!\")"
   ]
  }
 ],
 "metadata": {
  "kernelspec": {
   "display_name": "Python 3.10.6 64-bit",
   "language": "python",
   "name": "python3"
  },
  "language_info": {
   "codemirror_mode": {
    "name": "ipython",
    "version": 3
   },
   "file_extension": ".py",
   "mimetype": "text/x-python",
   "name": "python",
   "nbconvert_exporter": "python",
   "pygments_lexer": "ipython3",
   "version": "3.10.6"
  },
  "orig_nbformat": 4,
  "vscode": {
   "interpreter": {
    "hash": "bfee59d407786e37d851a0074c0310587cf925d78e034d84e7e530c7e665e2ed"
   }
  }
 },
 "nbformat": 4,
 "nbformat_minor": 2
}
