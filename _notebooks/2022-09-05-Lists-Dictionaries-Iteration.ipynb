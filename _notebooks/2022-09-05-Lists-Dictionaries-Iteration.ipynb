{
 "cells": [
  {
   "cell_type": "markdown",
   "metadata": {},
   "source": [
    "# Lists, Dictionaries, Iterations\n",
    "\n",
    "\n",
    "  "
   ]
  },
  {
   "cell_type": "markdown",
   "metadata": {},
   "source": []
  },
  {
   "cell_type": "markdown",
   "metadata": {},
   "source": [
    "# Lists/Dictionaries\n",
    "> Bash Check\n",
    "- toc: true\n",
    "- branch: master\n",
    "- badges: true\n",
    "- comments: true\n",
    "- author: Nicolas Mosqueda\n",
    "- categories: [jupyter]\n",
    "- image: images/chart-preview.png"
   ]
  },
  {
   "cell_type": "code",
   "execution_count": 21,
   "metadata": {
    "vscode": {
     "languageId": "shellscript"
    }
   },
   "outputs": [
    {
     "name": "stdout",
     "output_type": "stream",
     "text": [
      "[{'FirstName': 'Nicolas', 'LastName': 'Mosqueda', 'DOB': 'July 19', 'Residence': 'San Diego', 'Email': 'nicomosqueda02@gmail.com', 'Cars': ['2013-Nissan Versa'], 'FavoriteFootballPlayers': ['Josh Allen', 'Patrick Mahomes', 'Russel Wilson']}, {'FirstName': 'Ben', 'LastName': 'Lee', 'DOB': 'November 12', 'Residence': 'San Diego', 'Email': 'benjaminlee@gmail.com', 'Cars': ['Honda Civic'], 'FavoriteFootballPlayers': ['Tom Brady', 'Patrick Mahomes', 'Dak Prescott']}]\n"
     ]
    }
   ],
   "source": [
    "# Online Python - IDE, Editor, Compiler, Interpreter\n",
    "\n",
    "# Define an empty List called InfoDb\n",
    "InfoDb = []\n",
    "\n",
    "# InfoDB is a data structure with expected Keys and Values\n",
    "\n",
    "# Append to List a Dictionary of key/values related to a person and cars\n",
    "InfoDb.append({\n",
    "    \"FirstName\": \"Nicolas\",\n",
    "    \"LastName\": \"Mosqueda\",\n",
    "    \"DOB\": \"July 19\",\n",
    "    \"Residence\": \"San Diego\",\n",
    "    \"Email\": \"nicomosqueda02@gmail.com\",\n",
    "    \"Cars\": [\"2013-Nissan Versa\"],\n",
    "    \"FavoriteFootballPlayers\": [\"Josh Allen\", \"Patrick Mahomes\", \"Russel Wilson\"]\n",
    "})\n",
    "\n",
    "InfoDb.append({\n",
    "    \"FirstName\": \"Ben\",\n",
    "    \"LastName\": \"Lee\",\n",
    "    \"DOB\": \"November 12\",\n",
    "    \"Residence\": \"San Diego\",\n",
    "    \"Email\": \"benjaminlee@gmail.com\",\n",
    "    \"Cars\": [\"Honda Civic\"],\n",
    "    \"FavoriteFootballPlayers\": [\"Tom Brady\", \"Patrick Mahomes\", \"Dak Prescott\"]\n",
    "})\n",
    "\n",
    "# Print the data structure\n",
    "print(InfoDb)"
   ]
  },
  {
   "cell_type": "code",
   "execution_count": 20,
   "metadata": {
    "vscode": {
     "languageId": "shellscript"
    }
   },
   "outputs": [
    {
     "name": "stdout",
     "output_type": "stream",
     "text": [
      "FirstName:  Nicolas\n",
      "LastName:  Mosqueda\n",
      "DOB:  July 19\n",
      "Residence:  San Diego\n",
      "Email:  nicomosqueda02@gmail.com\n",
      "FavoriteFootballPlayers:  ['Josh Allen', 'Patrick Mahomes', 'Russel Wilson']\n",
      "FirstName:  Ben\n",
      "LastName:  Lee\n",
      "DOB:  November 12\n",
      "Residence:  San Diego\n",
      "Email:  benjaminlee@gmail.com\n",
      "FavoriteFootballPlayers:  ['Tom Brady', 'Patrick Mahomes', 'Dak Prescott']\n",
      "FirstName:  Nicolas\n",
      "LastName:  Mosqueda\n",
      "DOB:  July 19\n",
      "Residence:  San Diego\n",
      "Email:  nicomosqueda02@gmail.com\n",
      "FavoriteFootballPlayers:  ['Josh Allen', 'Patrick Mahomes', 'Russel Wilson']\n",
      "FirstName:  Ben\n",
      "LastName:  Lee\n",
      "DOB:  November 12\n",
      "Residence:  San Diego\n",
      "Email:  benjaminlee@gmail.com\n",
      "FavoriteFootballPlayers:  ['Tom Brady', 'Patrick Mahomes', 'Dak Prescott']\n",
      "FirstName:  Nicolas\n",
      "LastName:  Mosqueda\n",
      "DOB:  July 19\n",
      "Residence:  San Diego\n",
      "Email:  nicomosqueda02@gmail.com\n",
      "FavoriteFootballPlayers:  ['Josh Allen', 'Patrick Mahomes', 'Russel Wilson']\n",
      "FirstName:  Ben\n",
      "LastName:  Lee\n",
      "DOB:  November 12\n",
      "Residence:  San Diego\n",
      "Email:  benjaminlee@gmail.com\n",
      "FavoriteFootballPlayers:  ['Tom Brady', 'Patrick Mahomes', 'Dak Prescott']\n",
      "FirstName:  Nicolas\n",
      "LastName:  Mosqueda\n",
      "DOB:  July 19\n",
      "Residence:  San Diego\n",
      "Email:  nicomosqueda02@gmail.com\n",
      "FavoriteFootballPlayers:  ['Josh Allen', 'Patrick Mahomes', 'Russel Wilson']\n",
      "FirstName:  Ben\n",
      "LastName:  Lee\n",
      "DOB:  November 12\n",
      "Residence:  San Diego\n",
      "Email:  benjaminlee@gmail.com\n",
      "FavoriteFootballPlayers:  ['Tom Brady', 'Patrick Mahomes', 'Dak Prescott']\n"
     ]
    }
   ],
   "source": [
    "\n",
    "# Online Python - IDE, Editor, Compiler, Interpreter\n",
    "\n",
    "# Define an empty List called InfoDb\n",
    "InfoDb = []\n",
    "\n",
    "# InfoDB is a data structure with expected Keys and Values\n",
    "\n",
    "# Append to List a Dictionary of key/values related to a person and cars\n",
    "InfoDb.append({\n",
    "    \"FirstName\": \"Nicolas\",\n",
    "    \"LastName\": \"Mosqueda\",\n",
    "    \"DOB\": \"July 19\",\n",
    "    \"Residence\": \"San Diego\",\n",
    "    \"Email\": \"nicomosqueda02@gmail.com\",\n",
    "    \"Cars\": [\"2013-Nissan Versa\"],\n",
    "    \"FavoriteFootballPlayers\": [\"Josh Allen\", \"Patrick Mahomes\", \"Russel Wilson\"]\n",
    "})\n",
    "\n",
    "InfoDb.append({\n",
    "    \"FirstName\": \"Ben\",\n",
    "    \"LastName\": \"Lee\",\n",
    "    \"DOB\": \"November 12\",\n",
    "    \"Residence\": \"San Diego\",\n",
    "    \"Email\": \"benjaminlee@gmail.com\",\n",
    "    \"Cars\": [\"Honda Civic\"],\n",
    "    \"FavoriteFootballPlayers\": [\"Tom Brady\", \"Patrick Mahomes\", \"Dak Prescott\"]\n",
    "})\n",
    "\n",
    "def printInfo(data):\n",
    "    print(\"FirstName: \", data[\"FirstName\"])\n",
    "    print(\"LastName: \", data[\"LastName\"])\n",
    "    print(\"DOB: \", data[\"DOB\"])\n",
    "    print(\"Residence: \", data[\"Residence\"])\n",
    "    print(\"Email: \", data[\"Email\"])\n",
    "    print(\"FavoriteFootballPlayers: \", data[\"FavoriteFootballPlayers\"])\n",
    "    \n",
    "    \n",
    "# For Loop:\n",
    "for val in InfoDb:\n",
    "    printInfo(val)\n",
    "\n",
    "# For Loop with Index\n",
    "\n",
    "for index in range(len(InfoDb)):\n",
    "    printInfo(InfoDb[index])\n",
    "\n",
    "# While Loop\n",
    "index = 0\n",
    "while index < len(InfoDb):\n",
    "    printInfo(InfoDb[index])\n",
    "    index+=1\n",
    "\n",
    "# Recursion\n",
    "def recursion(i):\n",
    "    if i >= len(InfoDb): return\n",
    "\n",
    "    printInfo(InfoDb[i])\n",
    "    return recursion(i + 1)\n",
    "\n",
    "recursion(0)"
   ]
  }
 ],
 "metadata": {
  "kernelspec": {
   "display_name": "Python 3.10.6 64-bit",
   "language": "python",
   "name": "python3"
  },
  "language_info": {
   "codemirror_mode": {
    "name": "ipython",
    "version": 3
   },
   "file_extension": ".py",
   "mimetype": "text/x-python",
   "name": "python",
   "nbconvert_exporter": "python",
   "pygments_lexer": "ipython3",
   "version": "3.10.6"
  },
  "orig_nbformat": 4,
  "vscode": {
   "interpreter": {
    "hash": "bfee59d407786e37d851a0074c0310587cf925d78e034d84e7e530c7e665e2ed"
   }
  }
 },
 "nbformat": 4,
 "nbformat_minor": 2
}
