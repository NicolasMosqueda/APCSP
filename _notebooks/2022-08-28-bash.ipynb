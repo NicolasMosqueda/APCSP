{
 "cells": [
  {
   "cell_type": "markdown",
   "metadata": {},
   "source": [
    "# Bash Checks\n",
    "\n",
    "  "
   ]
  },
  {
   "cell_type": "markdown",
   "metadata": {},
   "source": []
  },
  {
   "cell_type": "markdown",
   "metadata": {},
   "source": [
    "# Bash Check on Jupyter\n",
    "> Bash Check\n",
    "- toc: true\n",
    "- branch: master\n",
    "- badges: true\n",
    "- comments: true\n",
    "- author: Nicolas Mosqueda\n",
    "- categories: [Week 1]\n",
    "- image: images/chart-preview.png"
   ]
  },
  {
   "cell_type": "code",
   "execution_count": 1,
   "metadata": {
    "vscode": {
     "languageId": "shellscript"
    }
   },
   "outputs": [
    {
     "name": "stdout",
     "output_type": "stream",
     "text": [
      "Using conditional statement to create a project directory and project\n",
      "Directory /home/nicolasmosqueda/vscode exists.\n",
      "Directory /home/nicolasmosqueda/vscode/APCSP exists.\n"
     ]
    }
   ],
   "source": [
    "echo \"Using conditional statement to create a project directory and project\"\n",
    "\n",
    "# Variable section\n",
    "export project_dir=$HOME/vscode  # change vscode to different name to test git clone\n",
    "export project=$project_dir/APCSP  # change APCSP to name of project from git clone\n",
    "export project_repo=\"https://github.com/nighthawkcoders/APCSP.git\"  # change to project of choice\n",
    "\n",
    "cd ~    # start in home directory\n",
    "\n",
    "# Conditional block to make a project directory\n",
    "if [ ! -d $project_dir ]\n",
    "then \n",
    "    echo \"Directory $project_dir does not exists... makinng directory $project_dir\"\n",
    "    mkdir -p $project_dir\n",
    "fi\n",
    "echo \"Directory $project_dir exists.\" \n",
    "\n",
    "# Conditional block to git clone a project from project_repo\n",
    "if [ ! -d $project ]\n",
    "then\n",
    "    echo \"Directory $project does not exists... cloning $project_repo\"\n",
    "    cd $project_dir\n",
    "    git clone $project_repo\n",
    "    cd ~\n",
    "fi\n",
    "echo \"Directory $project exists.\""
   ]
  },
  {
   "cell_type": "code",
   "execution_count": 1,
   "metadata": {
    "vscode": {
     "languageId": "shellscript"
    }
   },
   "outputs": [
    {
     "name": "stdout",
     "output_type": "stream",
     "text": [
      "Navigate to project, then navigate to area wwhere files were cloned\n",
      "/home/nicolasmosqueda\n",
      "\n",
      "list top level or root of files with project pulled from github\n",
      "\u001b[0m\u001b[01;34manaconda3\u001b[0m  \u001b[01;34mAPCSP\u001b[0m  \u001b[01;34mvscode\u001b[0m  wsl\n",
      "\n",
      "list again with hidden files pulled from github\n",
      "\u001b[0m\u001b[01;34m.\u001b[0m          .bash_history  .gitconfig   \u001b[01;34m.node-gyp\u001b[0m                  .wget-hsts\n",
      "\u001b[01;34m..\u001b[0m         .bash_logout   \u001b[01;34m.ipython\u001b[0m     \u001b[01;34m.npm\u001b[0m                       wsl\n",
      "\u001b[01;34manaconda3\u001b[0m  .bashrc        \u001b[01;34m.jupyter\u001b[0m     .profile\n",
      "\u001b[01;34mAPCSP\u001b[0m      \u001b[01;34m.cache\u001b[0m         \u001b[01;34m.landscape\u001b[0m   .sudo_as_admin_successful\n",
      "\u001b[01;36m.aws\u001b[0m       \u001b[01;34m.conda\u001b[0m         \u001b[01;34m.local\u001b[0m       \u001b[01;34mvscode\u001b[0m\n",
      "\u001b[01;36m.azure\u001b[0m     \u001b[01;34m.docker\u001b[0m        .motd_shown  \u001b[01;34m.vscode-server\u001b[0m\n",
      "\n",
      "list all files in long format\n",
      "total 88\n",
      "drwxr-x--- 15 nicolasmosqueda nicolasmosqueda 4096 Sep 19 16:30 \u001b[0m\u001b[01;34m.\u001b[0m\n",
      "drwxr-xr-x  3 root            root            4096 Aug 21 23:27 \u001b[01;34m..\u001b[0m\n",
      "drwxr-xr-x 28 nicolasmosqueda nicolasmosqueda 4096 Sep 14 17:25 \u001b[01;34manaconda3\u001b[0m\n",
      "drwxr-xr-x 18 nicolasmosqueda nicolasmosqueda 4096 Aug 23 13:55 \u001b[01;34mAPCSP\u001b[0m\n",
      "lrwxrwxrwx  1 nicolasmosqueda nicolasmosqueda   23 Sep 19 16:30 \u001b[01;36m.aws\u001b[0m -> \u001b[34;42m/mnt/c/Users/nicom/.aws\u001b[0m\n",
      "lrwxrwxrwx  1 nicolasmosqueda nicolasmosqueda   25 Sep 19 16:30 \u001b[01;36m.azure\u001b[0m -> \u001b[34;42m/mnt/c/Users/nicom/.azure\u001b[0m\n",
      "-rw-------  1 nicolasmosqueda nicolasmosqueda 3216 Sep 23 14:25 .bash_history\n",
      "-rw-r--r--  1 nicolasmosqueda nicolasmosqueda  220 Jan  6  2022 .bash_logout\n",
      "-rw-r--r--  1 nicolasmosqueda nicolasmosqueda 4286 Sep 14 14:40 .bashrc\n",
      "drwxr-xr-x  7 nicolasmosqueda nicolasmosqueda 4096 Sep 23 14:08 \u001b[01;34m.cache\u001b[0m\n",
      "drwxr-xr-x  2 nicolasmosqueda nicolasmosqueda 4096 Sep 14 14:40 \u001b[01;34m.conda\u001b[0m\n",
      "drwxr-xr-x  5 nicolasmosqueda nicolasmosqueda 4096 Sep 19 17:34 \u001b[01;34m.docker\u001b[0m\n",
      "-rw-r--r--  1 nicolasmosqueda nicolasmosqueda   34 Sep 14 14:28 .gitconfig\n",
      "drwxr-xr-x  3 nicolasmosqueda nicolasmosqueda 4096 Sep 23 14:08 \u001b[01;34m.ipython\u001b[0m\n",
      "drwxr-xr-x  2 nicolasmosqueda nicolasmosqueda 4096 Sep 14 17:24 \u001b[01;34m.jupyter\u001b[0m\n",
      "drwxr-xr-x  2 nicolasmosqueda nicolasmosqueda 4096 Aug 21 23:30 \u001b[01;34m.landscape\u001b[0m\n",
      "drwxr-xr-x  5 nicolasmosqueda nicolasmosqueda 4096 Sep 23 14:08 \u001b[01;34m.local\u001b[0m\n",
      "-rw-r--r--  1 nicolasmosqueda nicolasmosqueda    0 Sep 25 16:41 .motd_shown\n",
      "drwxr-xr-x  3 nicolasmosqueda nicolasmosqueda 4096 Sep 14 17:26 \u001b[01;34m.node-gyp\u001b[0m\n",
      "drwxr-xr-x 13 nicolasmosqueda nicolasmosqueda 4096 Sep 23 14:01 \u001b[01;34m.npm\u001b[0m\n",
      "-rw-r--r--  1 nicolasmosqueda nicolasmosqueda  807 Jan  6  2022 .profile\n",
      "-rw-r--r--  1 nicolasmosqueda nicolasmosqueda    0 Sep 14 14:42 .sudo_as_admin_successful\n",
      "drwxr-xr-x  3 nicolasmosqueda nicolasmosqueda 4096 Sep 14 17:28 \u001b[01;34mvscode\u001b[0m\n",
      "drwxr-xr-x  5 nicolasmosqueda nicolasmosqueda 4096 Aug 23 13:52 \u001b[01;34m.vscode-server\u001b[0m\n",
      "-rw-r--r--  1 nicolasmosqueda nicolasmosqueda  183 Sep 14 17:28 .wget-hsts\n",
      "-rw-r--r--  1 nicolasmosqueda nicolasmosqueda    0 Sep 14 14:30 wsl\n"
     ]
    }
   ],
   "source": [
    "echo \"Navigate to project, then navigate to area wwhere files were cloned\"\n",
    "cd $project\n",
    "pwd\n",
    "\n",
    "echo \"\"\n",
    "echo \"list top level or root of files with project pulled from github\"\n",
    "ls\n",
    "\n",
    "echo \"\"\n",
    "echo \"list again with hidden files pulled from github\"\n",
    "ls -a   # hidden files flag, many shell commands have flags\n",
    "\n",
    "echo \"\"\n",
    "echo \"list all files in long format\"\n",
    "ls -al   # all files and long listing"
   ]
  },
  {
   "cell_type": "code",
   "execution_count": 2,
   "metadata": {
    "vscode": {
     "languageId": "shellscript"
    }
   },
   "outputs": [
    {
     "name": "stdout",
     "output_type": "stream",
     "text": [
      "Look for posts\n",
      "bash: cd: /_posts: No such file or directory\n",
      "/home/nicolasmosqueda\n",
      "total 12\n",
      "drwxr-xr-x 28 nicolasmosqueda nicolasmosqueda 4096 Sep 14 17:25 \u001b[0m\u001b[01;34manaconda3\u001b[0m\n",
      "drwxr-xr-x 18 nicolasmosqueda nicolasmosqueda 4096 Aug 23 13:55 \u001b[01;34mAPCSP\u001b[0m\n",
      "drwxr-xr-x  3 nicolasmosqueda nicolasmosqueda 4096 Sep 14 17:28 \u001b[01;34mvscode\u001b[0m\n",
      "-rw-r--r--  1 nicolasmosqueda nicolasmosqueda    0 Sep 14 14:30 wsl\n"
     ]
    }
   ],
   "source": [
    "echo \"Look for posts\"\n",
    "export posts=$project/_posts  # _posts inside project\n",
    "cd $posts  # this should exist per fastpages\n",
    "pwd  # present working directory\n",
    "ls -l  # list posts"
   ]
  },
  {
   "cell_type": "code",
   "execution_count": 3,
   "metadata": {
    "vscode": {
     "languageId": "shellscript"
    }
   },
   "outputs": [
    {
     "name": "stdout",
     "output_type": "stream",
     "text": [
      "Look for posts\n",
      "bash: cd: /_posts: No such file or directory\n",
      "/home/nicolasmosqueda\n",
      "total 12\n",
      "drwxr-xr-x 28 nicolasmosqueda nicolasmosqueda 4096 Sep 14 17:25 \u001b[0m\u001b[01;34manaconda3\u001b[0m\n",
      "drwxr-xr-x 18 nicolasmosqueda nicolasmosqueda 4096 Aug 23 13:55 \u001b[01;34mAPCSP\u001b[0m\n",
      "drwxr-xr-x  3 nicolasmosqueda nicolasmosqueda 4096 Sep 14 17:28 \u001b[01;34mvscode\u001b[0m\n",
      "-rw-r--r--  1 nicolasmosqueda nicolasmosqueda    0 Sep 14 14:30 wsl\n"
     ]
    }
   ],
   "source": [
    "echo \"Look for posts\"\n",
    "export posts=$project/_posts  # _posts inside project\n",
    "cd $posts  # this should exist per fastpages\n",
    "pwd  # present working directory\n",
    "ls -l  # list posts"
   ]
  },
  {
   "cell_type": "code",
   "execution_count": 4,
   "metadata": {
    "vscode": {
     "languageId": "shellscript"
    }
   },
   "outputs": [
    {
     "name": "stdout",
     "output_type": "stream",
     "text": [
      "Look for notebooks\n",
      "bash: cd: /_notebooks: No such file or directory\n",
      "/home/nicolasmosqueda\n",
      "total 12\n",
      "drwxr-xr-x 28 nicolasmosqueda nicolasmosqueda 4096 Sep 14 17:25 \u001b[0m\u001b[01;34manaconda3\u001b[0m\n",
      "drwxr-xr-x 18 nicolasmosqueda nicolasmosqueda 4096 Aug 23 13:55 \u001b[01;34mAPCSP\u001b[0m\n",
      "drwxr-xr-x  3 nicolasmosqueda nicolasmosqueda 4096 Sep 14 17:28 \u001b[01;34mvscode\u001b[0m\n",
      "-rw-r--r--  1 nicolasmosqueda nicolasmosqueda    0 Sep 14 14:30 wsl\n"
     ]
    }
   ],
   "source": [
    "echo \"Look for notebooks\"\n",
    "export notebooks=$project/_notebooks  # _notebooks is inside project\n",
    "cd $notebooks   # this should exist per fastpages\n",
    "pwd  # present working directory\n",
    "ls -l  # list notebooks"
   ]
  },
  {
   "cell_type": "code",
   "execution_count": 5,
   "metadata": {
    "vscode": {
     "languageId": "shellscript"
    }
   },
   "outputs": [
    {
     "name": "stdout",
     "output_type": "stream",
     "text": [
      "Look for images in notebooks, print working directory, list files\n",
      "bash: cd: /_notebooks/images: No such file or directory\n",
      "/home/nicolasmosqueda\n",
      "total 12\n",
      "drwxr-xr-x 28 nicolasmosqueda nicolasmosqueda 4096 Sep 14 17:25 \u001b[0m\u001b[01;34manaconda3\u001b[0m\n",
      "drwxr-xr-x 18 nicolasmosqueda nicolasmosqueda 4096 Aug 23 13:55 \u001b[01;34mAPCSP\u001b[0m\n",
      "drwxr-xr-x  3 nicolasmosqueda nicolasmosqueda 4096 Sep 14 17:28 \u001b[01;34mvscode\u001b[0m\n",
      "-rw-r--r--  1 nicolasmosqueda nicolasmosqueda    0 Sep 14 14:30 wsl\n"
     ]
    }
   ],
   "source": [
    "echo \"Look for images in notebooks, print working directory, list files\"\n",
    "cd $notebooks/images  # this should exist per fastpages\n",
    "pwd\n",
    "ls -l"
   ]
  },
  {
   "cell_type": "code",
   "execution_count": null,
   "metadata": {
    "vscode": {
     "languageId": "shellscript"
    }
   },
   "outputs": [],
   "source": [
    "echo \"Navigate to project, then navigate to area wwhere files were cloned\"\n",
    "\n",
    "cd $project\n",
    "echo \"show the contents of README.md\"\n",
    "echo \"\"\n",
    "\n",
    "cat README.md  # show contents of file, in this case markdown\n",
    "echo \"\"\n",
    "echo \"end of README.md\""
   ]
  },
  {
   "cell_type": "code",
   "execution_count": null,
   "metadata": {
    "vscode": {
     "languageId": "shellscript"
    }
   },
   "outputs": [],
   "source": [
    "echo \"Show the shell environment variables, key on left of equal value on right\"\n",
    "echo \"\"\n",
    "\n",
    "env"
   ]
  },
  {
   "cell_type": "code",
   "execution_count": null,
   "metadata": {
    "vscode": {
     "languageId": "shellscript"
    }
   },
   "outputs": [],
   "source": [
    "cd $project\n",
    "\n",
    "echo \"\"\n",
    "echo \"show the secrets of .git\"\n",
    "cd .git\n",
    "ls -l\n",
    "\n",
    "echo \"\"\n",
    "echo \"look at config file\"\n",
    "cat config"
   ]
  }
 ],
 "metadata": {
  "kernelspec": {
   "display_name": "Bash",
   "language": "bash",
   "name": "bash"
  },
  "language_info": {
   "codemirror_mode": "shell",
   "file_extension": ".sh",
   "mimetype": "text/x-sh",
   "name": "bash"
  },
  "orig_nbformat": 4,
  "vscode": {
   "interpreter": {
    "hash": "bfee59d407786e37d851a0074c0310587cf925d78e034d84e7e530c7e665e2ed"
   }
  }
 },
 "nbformat": 4,
 "nbformat_minor": 2
}
