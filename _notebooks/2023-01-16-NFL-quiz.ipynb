{
 "cells": [
  {
   "attachments": {},
   "cell_type": "markdown",
   "metadata": {},
   "source": [
    "# NFL Logo Quiz\n",
    "\n",
    "- title: NFL Logo Quiz\n",
    "- toc: true\n",
    "- image: /images/python.png\n",
    "- week: 18"
   ]
  },
  {
   "cell_type": "code",
   "execution_count": 7,
   "metadata": {},
   "outputs": [
    {
     "name": "stdout",
     "output_type": "stream",
     "text": [
      "Correct!\n",
      "Correct!\n",
      "Incorrect. The answer is the Los Angeles Chargers.\n",
      "You scored 2 out of 3.\n"
     ]
    }
   ],
   "source": [
    "score = 0\n",
    "\n",
    "# Question 1\n",
    "answer = input(\"Which NFL Logo is blue and red?\")\n",
    "if answer == \"Buffalo Bills\":\n",
    "    print(\"Correct!\")\n",
    "    score += 1\n",
    "else:\n",
    "    print(\"Incorrect. The answer is Buffalo Bills.\")\n",
    "\n",
    "# Question 2\n",
    "answer = input(\"Which NFL logo has an arrowhead?\")\n",
    "if answer == \"Kansas City Cheifs\":\n",
    "    print(\"Correct!\")\n",
    "    score += 1\n",
    "else:\n",
    "    print(\"Incorrect. The answer is the Kansas City Cheifs.\")\n",
    "\n",
    "# Question 3\n",
    "answer = input(\"Which NFL logo is similar to a lighting bolt? \")\n",
    "if answer == \"Los Angeles Chargers\":\n",
    "    print(\"Correct!\")\n",
    "    score += 1\n",
    "else:\n",
    "    print(\"Incorrect. The answer is the Los Angeles Chargers.\")\n",
    "\n",
    "print(f\"You scored {score} out of 3.\")\n"
   ]
  }
 ],
 "metadata": {
  "kernelspec": {
   "display_name": "base",
   "language": "python",
   "name": "python3"
  },
  "language_info": {
   "codemirror_mode": {
    "name": "ipython",
    "version": 3
   },
   "file_extension": ".py",
   "mimetype": "text/x-python",
   "name": "python",
   "nbconvert_exporter": "python",
   "pygments_lexer": "ipython3",
   "version": "3.9.12 (main, Apr  5 2022, 06:56:58) \n[GCC 7.5.0]"
  },
  "orig_nbformat": 4,
  "vscode": {
   "interpreter": {
    "hash": "e3ae093631746b1a0e3e5a1959ce4a8e807acbb1b7faf1bd448ef5cddc7d3c02"
   }
  }
 },
 "nbformat": 4,
 "nbformat_minor": 2
}
