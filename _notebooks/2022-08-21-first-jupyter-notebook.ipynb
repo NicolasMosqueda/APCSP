{
 "cells": [
  {
   "cell_type": "markdown",
   "metadata": {},
   "source": [
    "# Nicolas's First Jupyter Notebook\n",
    "Nicolas Mosqueda's first Jupyter Notebook (print hello): "
   ]
  },
  {
   "cell_type": "code",
   "execution_count": 2,
   "metadata": {},
   "outputs": [
    {
     "name": "stdout",
     "output_type": "stream",
     "text": [
      "Hello\n"
     ]
    }
   ],
   "source": [
    "print(\"Hello\")"
   ]
  },
  {
   "cell_type": "code",
   "execution_count": 1,
   "metadata": {},
   "outputs": [
    {
     "name": "stdout",
     "output_type": "stream",
     "text": [
      "I am very excited to learn about computer science this year\n"
     ]
    }
   ],
   "source": [
    "print(\"I am very excited to learn about computer science this year\")"
   ]
  }
 ],
 "metadata": {
  "kernelspec": {
   "display_name": "Python 3.10.6 64-bit",
   "language": "python",
   "name": "python3"
  },
  "language_info": {
   "codemirror_mode": {
    "name": "ipython",
    "version": 3
   },
   "file_extension": ".py",
   "mimetype": "text/x-python",
   "name": "python",
   "nbconvert_exporter": "python",
   "pygments_lexer": "ipython3",
   "version": "3.10.6"
  },
  "orig_nbformat": 4,
  "vscode": {
   "interpreter": {
    "hash": "bfee59d407786e37d851a0074c0310587cf925d78e034d84e7e530c7e665e2ed"
   }
  }
 },
 "nbformat": 4,
 "nbformat_minor": 2
}
