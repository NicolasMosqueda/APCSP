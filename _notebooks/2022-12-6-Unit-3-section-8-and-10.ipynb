{
 "cells": [
  {
   "cell_type": "markdown",
   "metadata": {},
   "source": [
    "# Unit 3 Section 8 and 10 Hacks\n",
    "- title: Unit 3 Section 8 and 10 Hacks\n",
    "- tags: [week 16]\n",
    "- toc: true\n",
    "- comments: true"
   ]
  },
  {
   "cell_type": "markdown",
   "metadata": {},
   "source": [
    "# Notes\n",
    "\n",
    "Iteration - Repitition of a Process\n",
    "\n",
    "For Loop - repeats a function for a set number of times; I is the number of times repeated\n",
    "\n",
    "While Loop - used to repeat a section of code an unknown number of times until a specific condition is met\n",
    "\n",
    "Initialization - What sets the counter variable to a starting value. For example (var i = 0) represents an initial value of 0.\n",
    "\n",
    "Condition - Allows the computer to know whether or not to keep repeating the loop.\n",
    "\n",
    "increment/decrement - Modifies the counter variable after each repetition.\n",
    "\n",
    "Indexing / List Index - The position of an element in a list, starting from 0\n",
    "\n",
    "append, remove, pop - Various methods, append adds an element to the end, remove removes at an index, and pop removes the last item.\n",
    "\n",
    "Elements [in a list] - An item in a list.\n",
    "\n",
    "Nesting - Having one data type or function inside another data type or function, such as lists or loops.\n",
    "\n",
    "array - Another name for a list, depends on the language"
   ]
  },
  {
   "cell_type": "markdown",
   "metadata": {},
   "source": [
    "# Exercise 1 and 2"
   ]
  },
  {
   "cell_type": "code",
   "execution_count": 3,
   "metadata": {},
   "outputs": [
    {
     "name": "stdout",
     "output_type": "stream",
     "text": [
      "[5, 4, 3, 2, 1]\n",
      "None\n"
     ]
    }
   ],
   "source": [
    "list = [1, 2, 3, 4, 5]\n",
    "list.reverse()\n",
    "print(list)\n",
    "newlist = list.reverse()\n",
    "print(newlist)"
   ]
  },
  {
   "cell_type": "code",
   "execution_count": 9,
   "metadata": {},
   "outputs": [
    {
     "name": "stdout",
     "output_type": "stream",
     "text": [
      "[0, 1, 2, 3, 4, 5, 6, 7, 8, 9]\n"
     ]
    }
   ],
   "source": [
    "list = [9, 8, 4, 3, 5, 2, 6, 7, 1, 0] \n",
    "\n",
    "loopnumber = 0\n",
    "while True: \n",
    "    count = 0\n",
    "    for i in range(len(list) - 1):\n",
    "        if list[i] > list[i+1]:\n",
    "            temp = list[i]\n",
    "            list[i] = list[i+1]\n",
    "            list[i+1] = temp \n",
    "            count += 1\n",
    "    loopnumber += 1\n",
    "    if count == 0:\n",
    "        break\n",
    "print(list)"
   ]
  },
  {
   "cell_type": "markdown",
   "metadata": {},
   "source": [
    "# Multpile Choice Quiz\n",
    "\n",
    "![]({{ site.baseurl }}/images/question9.png \"Question 10 Correction\")\n",
    "\n",
    "# Correction\n",
    "\n",
    "The question confused me at first as I thought the answer was WHILE loop. My thinking was that a while loop continues to repeat until a condition is met, which in this case was when the user inputs 'quit'. The right answer is FOR loop because when iterating over a list it will continue to repeat unitl the user quits. While loop is more appropriate for conditional statements."
   ]
  },
  {
   "cell_type": "markdown",
   "metadata": {},
   "source": [
    "# Reflection\n",
    "\n",
    "These lessons were a bit challenging at first but with perserverance I was able to understand the concepts which allowed me to perform the hacks well. The presentation was great and I learned a lot from it."
   ]
  },
  {
   "cell_type": "code",
   "execution_count": null,
   "metadata": {},
   "outputs": [],
   "source": [
    "# Question 1\n",
    "if (isCold or isRaining) {\n",
    "    stayInside <- True\n",
    "}\n",
    "else {\n",
    "    stayInside <- False\n",
    "}"
   ]
  },
  {
   "cell_type": "code",
   "execution_count": 1,
   "metadata": {},
   "outputs": [
    {
     "name": "stdout",
     "output_type": "stream",
     "text": [
      "Attempts: [7, 3, 1, 2]\n"
     ]
    }
   ],
   "source": [
    "# Question 2\n",
    "import random\n",
    "numAttempts = []\n",
    "\n",
    "i = 1 \n",
    "while i <= 4:\n",
    "    numAttempts.append(random.randint(1,10))\n",
    "    i = i +1 \n",
    "    \n",
    "print(\"Attempts:\", numAttempts)"
   ]
  },
  {
   "cell_type": "code",
   "execution_count": null,
   "metadata": {},
   "outputs": [],
   "source": [
    "# Question 3\n",
    "{\n",
    "if CANMOVEFORWARD{\n",
    "    moveForwards\n",
    "}\n",
    "else{\n",
    "    if CANTURNRIGHT{\n",
    "        turnright\n",
    "    }\n",
    "    if CANTURNLEFT{\n",
    "        turnleft\n",
    "    }\n",
    "}\n",
    "}"
   ]
  },
  {
   "cell_type": "code",
   "execution_count": 1,
   "metadata": {},
   "outputs": [
    {
     "name": "stdout",
     "output_type": "stream",
     "text": [
      "['Mathew', 'Riggi', 'Jacob', 'Elijah', 'Mathew']\n"
     ]
    }
   ],
   "source": [
    "import random\n",
    "names_list = [\"Riggi\", \"Ben\", \"Arnav\", \"Avery\", \"Josh\", \"Nathan\", \"Drew\", \"Mathew\", \"Joseph\", \"Caleb\", \"Nate\", \"Elijah\", \"Connor\", \"Jacob\", \"Jim\", \"Ron Jay\"]\n",
    "random_list = []\n",
    "def addPeople(list, new_list):\n",
    "    count = 1\n",
    "    while count <= 5:\n",
    "        number = random.randint(0, len(list) - 1)\n",
    "        new_list.append(list[number])\n",
    "        count += 1\n",
    "    return new_list\n",
    "\n",
    "print(addPeople(names_list, random_list))"
   ]
  },
  {
   "cell_type": "code",
   "execution_count": 2,
   "metadata": {},
   "outputs": [
    {
     "name": "stdout",
     "output_type": "stream",
     "text": [
      "Player 2 won game 2 with a score of 10 points!\n",
      "Player 1 won game 1 with a score of 6 points!\n"
     ]
    }
   ],
   "source": [
    "import random\n",
    "score1 = 0\n",
    "score2 = 0\n",
    "def DiceGame():\n",
    "    score1 = random.randint(1, 6) + random.randint(1, 6)\n",
    "    score2 = random.randint(1, 6) + random.randint(1, 6)\n",
    "    if score1 > score2:\n",
    "        print(\"Player 1 won game 1 with a score of \" + str(score1) + \" points!\")\n",
    "    if score1 < score2:\n",
    "        print(\"Player 2 won game 2 with a score of \" + str(score2) + \" points!\")\n",
    "    if score1 == score2:\n",
    "        print(\"Both players tied with \" + str(score1) + \" points!\")\n",
    "\n",
    "DiceGame()\n",
    "DiceGame()"
   ]
  },
  {
   "cell_type": "code",
   "execution_count": 3,
   "metadata": {},
   "outputs": [
    {
     "name": "stdout",
     "output_type": "stream",
     "text": [
      "x 0 x 0 0\n",
      "x 0 0 x S\n",
      "0 0 0 0 x\n",
      "0 x 0 x x\n",
      "0 0 E 0 x\n"
     ]
    }
   ],
   "source": [
    "import random\n",
    "\n",
    "# defining constraints\n",
    "width = 5\n",
    "height = 5\n",
    "obstacles = 12\n",
    "\n",
    "# creates the maze\n",
    "maze = [[0 for i in range(width)] for j in range(height)]\n",
    "\n",
    "# for loop to generate obstacles\n",
    "for i in range(obstacles):\n",
    "    x = random.randint(0, width - 1)\n",
    "    y = random.randint(0, height - 1)\n",
    "    maze[x][y] = 'x' # represents obstacles\n",
    "\n",
    "# function to create a start and end position\n",
    "def startEnd():\n",
    "    a = random.randint(0, width - 1)\n",
    "    b = random.randint(0, height - 1)\n",
    "    maze[a][b] = 'S' # represents the start position\n",
    "    c = random.randint(0, width - 1)\n",
    "    d = random.randint(0, height - 1)\n",
    "    maze[c][d] = 'E' # represents the end position\n",
    "\n",
    "startEnd()\n",
    "\n",
    "# function to print the maze\n",
    "for row in maze:\n",
    "    print(' '.join(str(cell) for cell in row))"
   ]
  },
  {
   "cell_type": "code",
   "execution_count": 5,
   "metadata": {},
   "outputs": [
    {
     "name": "stdout",
     "output_type": "stream",
     "text": [
      "heads: 509\n",
      "tails: 491\n"
     ]
    }
   ],
   "source": [
    "import random\n",
    "\n",
    "n = 1000\n",
    "heads = 0\n",
    "tails = 0\n",
    " \n",
    "for i in range(n):\n",
    "\n",
    "    toss = random.random()\n",
    "    if toss < 0.5:\n",
    "        heads += 1\n",
    "    else:\n",
    "        tails += 1\n",
    " \n",
    "print('heads:', heads)\n",
    "print('tails:', tails)"
   ]
  }
 ],
 "metadata": {
  "kernelspec": {
   "display_name": "Python 3.8.10 64-bit",
   "language": "python",
   "name": "python3"
  },
  "language_info": {
   "codemirror_mode": {
    "name": "ipython",
    "version": 3
   },
   "file_extension": ".py",
   "mimetype": "text/x-python",
   "name": "python",
   "nbconvert_exporter": "python",
   "pygments_lexer": "ipython3",
   "version": "3.10.4 (main, Jun 29 2022, 12:14:53) [GCC 11.2.0]"
  },
  "orig_nbformat": 4,
  "vscode": {
   "interpreter": {
    "hash": "916dbcbb3f70747c44a77c7bcd40155683ae19c65e1c03b4aa3499c5328201f1"
   }
  }
 },
 "nbformat": 4,
 "nbformat_minor": 2
}
